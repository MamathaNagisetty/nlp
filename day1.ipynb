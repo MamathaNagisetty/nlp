{
 "cells": [
  {
   "cell_type": "code",
   "execution_count": 2,
   "metadata": {},
   "outputs": [
    {
     "name": "stdout",
     "output_type": "stream",
     "text": [
      "10 <class 'int'>\n",
      "3.14 <class 'float'>\n",
      "Hello! <class 'str'>\n",
      "True <class 'bool'>\n"
     ]
    }
   ],
   "source": [
    "#1. Jupyter Notebook and Data Types\n",
    "#Write a program in Jupyter Notebook to declare variables of different data types (integer, float, string, and boolean). Print each variable and its type.\n",
    "x = 10         \n",
    "y = 3.14       \n",
    "z = \"Hello!\"   \n",
    "w = True       \n",
    "print(x, type(x))  \n",
    "print(y, type(y))  \n",
    "print(z, type(z))  \n",
    "print(w, type(w))  \n"
   ]
  },
  {
   "cell_type": "code",
   "execution_count": null,
   "metadata": {},
   "outputs": [],
   "source": [
    "#Create a List, tuple and Dictionary with 5 elements in it and how to access few elements based on the index. Try  with different examples \n",
    "my_list = [10, 20, 30, 40, 50]\n",
    "my_tuple = (1, 2, 3, 4, 5)\n",
    "my_dict = {'a': 100, 'b': 200, 'c': 300, 'd': 400, 'e': 500}\n",
    "\n",
    "list_first_element = my_list[0]\n",
    "tuple_first_element = my_tuple[0]\n",
    "dict_value_a = my_dict['a']\n",
    "\n",
    "print(\"First element of the list:\", list_first_element)\n",
    "print(\"First element of the tuple:\", tuple_first_element)\n",
    "print(\"Value of key 'a' in the dictionary:\", dict_value_a)\n",
    "\n"
   ]
  },
  {
   "cell_type": "code",
   "execution_count": 1,
   "metadata": {},
   "outputs": [
    {
     "name": "stdout",
     "output_type": "stream",
     "text": [
      "<class 'float'>\n"
     ]
    }
   ],
   "source": [
    "y=2.8\n",
    "print(type(y))"
   ]
  }
 ],
 "metadata": {
  "kernelspec": {
   "display_name": "Python 3",
   "language": "python",
   "name": "python3"
  },
  "language_info": {
   "codemirror_mode": {
    "name": "ipython",
    "version": 3
   },
   "file_extension": ".py",
   "mimetype": "text/x-python",
   "name": "python",
   "nbconvert_exporter": "python",
   "pygments_lexer": "ipython3",
   "version": "3.13.1"
  }
 },
 "nbformat": 4,
 "nbformat_minor": 2
}
